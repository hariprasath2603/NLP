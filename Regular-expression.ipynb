{
 "cells": [
  {
   "cell_type": "markdown",
   "metadata": {},
   "source": [
    "### Regular Expression in Python\n",
    "\n",
    "\n",
    "- `search(pattern, text)` - gives single re object result if exist\n",
    "- `findAll(patterns, text)` - gives list of all matching text\n",
    "- `finditer(pattern, text)` - gives list of all matching re object"
   ]
  },
  {
   "cell_type": "code",
   "execution_count": 1,
   "metadata": {},
   "outputs": [],
   "source": [
    "import re"
   ]
  },
  {
   "cell_type": "code",
   "execution_count": 2,
   "metadata": {},
   "outputs": [],
   "source": [
    "text = \"Hello this my phone number of my phone\"\n",
    "pattern = \"phone\"\n",
    "invalid_pattern = \"text\""
   ]
  },
  {
   "cell_type": "code",
   "execution_count": 4,
   "metadata": {},
   "outputs": [
    {
     "name": "stdout",
     "output_type": "stream",
     "text": [
      "<re.Match object; span=(14, 19), match='phone'>\n"
     ]
    }
   ],
   "source": [
    "match_obj = re.search(pattern, text)\n",
    "print(match_obj)"
   ]
  },
  {
   "cell_type": "code",
   "execution_count": 6,
   "metadata": {},
   "outputs": [
    {
     "name": "stdout",
     "output_type": "stream",
     "text": [
      "(14, 19)\n",
      "14\n",
      "19\n"
     ]
    }
   ],
   "source": [
    "print(match_obj.span()) # gives start and end as tuple\n",
    "print(match_obj.start()) # gives start of matching pattern\n",
    "print(match_obj.end()) # gives start of matching pattern"
   ]
  },
  {
   "cell_type": "code",
   "execution_count": null,
   "metadata": {},
   "outputs": [
    {
     "name": "stdout",
     "output_type": "stream",
     "text": [
      "None\n"
     ]
    }
   ],
   "source": [
    "invalid_match = re.search(invalid_pattern, text)\n",
    "print(invalid_match) # if invalid it returns None"
   ]
  },
  {
   "cell_type": "code",
   "execution_count": null,
   "metadata": {},
   "outputs": [
    {
     "name": "stdout",
     "output_type": "stream",
     "text": [
      "['phone', 'phone']\n"
     ]
    }
   ],
   "source": [
    "all_match_text = re.findall(pattern, text) # it gives list of matching strings\n",
    "print(all_match_text)"
   ]
  },
  {
   "cell_type": "code",
   "execution_count": 14,
   "metadata": {},
   "outputs": [
    {
     "name": "stdout",
     "output_type": "stream",
     "text": [
      "<callable_iterator object at 0x10873f640>\n",
      "The match text is:phone, span is :(14, 19)\n",
      "The match text is:phone, span is :(33, 38)\n"
     ]
    }
   ],
   "source": [
    "all_match_obj = re.finditer(pattern, text) # it gives match_obj iterator for all matching patterns\n",
    "print(all_match_obj)\n",
    "\n",
    "for match_obj in all_match_obj:\n",
    "    match_span = match_obj.span()\n",
    "\n",
    "    match_start =  match_obj.start()\n",
    "    match_end =  match_obj.end()\n",
    "    match_text = text[match_start:match_end]\n",
    "    \n",
    "    print(\"The match text is:{}, span is :{}\".format(match_text, match_span))"
   ]
  },
  {
   "cell_type": "code",
   "execution_count": 16,
   "metadata": {},
   "outputs": [
    {
     "name": "stdout",
     "output_type": "stream",
     "text": [
      "The match text is:phone, span is :(14, 19)\n",
      "The match text is:phone, span is :(33, 38)\n"
     ]
    }
   ],
   "source": [
    "def printAllMatchingPattern(pattern, text):\n",
    "    all_match_obj = re.finditer(pattern, text) # it gives match_obj iterator for all matching patterns\n",
    "\n",
    "    for match_obj in all_match_obj: # iterate on all match object\n",
    "        match_span = match_obj.span()\n",
    "\n",
    "        match_start =  match_obj.start() # finding start\n",
    "        match_end =  match_obj.end() # finding end\n",
    "        match_text = text[match_start:match_end] # extracting match text\n",
    "        \n",
    "        print(\"The match text is:{}, span is :{}\".format(match_text, match_span))\n",
    "\n",
    "printAllMatchingPattern(pattern, text)"
   ]
  },
  {
   "cell_type": "code",
   "execution_count": null,
   "metadata": {},
   "outputs": [],
   "source": []
  }
 ],
 "metadata": {
  "kernelspec": {
   "display_name": "Python 3",
   "language": "python",
   "name": "python3"
  },
  "language_info": {
   "codemirror_mode": {
    "name": "ipython",
    "version": 3
   },
   "file_extension": ".py",
   "mimetype": "text/x-python",
   "name": "python",
   "nbconvert_exporter": "python",
   "pygments_lexer": "ipython3",
   "version": "3.11.11"
  }
 },
 "nbformat": 4,
 "nbformat_minor": 2
}
