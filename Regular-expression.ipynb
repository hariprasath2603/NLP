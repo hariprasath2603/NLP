{
 "cells": [
  {
   "cell_type": "markdown",
   "metadata": {},
   "source": [
    "### Regular Expression in Python\n",
    "\n",
    "Regular expressions are handled using Python's built-in **re** library. See [the docs](https://docs.python.org/3/library/re.html) for more information."
   ]
  },
  {
   "cell_type": "code",
   "execution_count": 17,
   "metadata": {},
   "outputs": [],
   "source": [
    "import re"
   ]
  },
  {
   "cell_type": "code",
   "execution_count": 44,
   "metadata": {},
   "outputs": [],
   "source": [
    "text = \"Hello this my phone number of my phone\"\n",
    "pattern = \"phone\"\n",
    "invalid_pattern = \"text\""
   ]
  },
  {
   "cell_type": "markdown",
   "metadata": {},
   "source": [
    "## Matching pattern\n",
    "\n",
    "- `search(pattern, text)` - gives single re object result if exist\n",
    "- `findAll(patterns, text)` - gives list of all matching text\n",
    "- `finditer(pattern, text)` - gives list of all matching re object"
   ]
  },
  {
   "cell_type": "code",
   "execution_count": 19,
   "metadata": {},
   "outputs": [
    {
     "name": "stdout",
     "output_type": "stream",
     "text": [
      "<re.Match object; span=(14, 19), match='phone'>\n"
     ]
    }
   ],
   "source": [
    "match_obj = re.search(pattern, text)\n",
    "print(match_obj)"
   ]
  },
  {
   "cell_type": "code",
   "execution_count": 20,
   "metadata": {},
   "outputs": [
    {
     "name": "stdout",
     "output_type": "stream",
     "text": [
      "(14, 19)\n",
      "14\n",
      "19\n"
     ]
    }
   ],
   "source": [
    "print(match_obj.span()) # gives start and end as tuple\n",
    "print(match_obj.start()) # gives start of matching pattern\n",
    "print(match_obj.end()) # gives start of matching pattern"
   ]
  },
  {
   "cell_type": "code",
   "execution_count": 21,
   "metadata": {},
   "outputs": [
    {
     "name": "stdout",
     "output_type": "stream",
     "text": [
      "None\n"
     ]
    }
   ],
   "source": [
    "invalid_match = re.search(invalid_pattern, text)\n",
    "print(invalid_match) # if invalid it returns None"
   ]
  },
  {
   "cell_type": "code",
   "execution_count": 22,
   "metadata": {},
   "outputs": [
    {
     "name": "stdout",
     "output_type": "stream",
     "text": [
      "['phone', 'phone']\n"
     ]
    }
   ],
   "source": [
    "all_match_text = re.findall(pattern, text) # it gives list of matching strings\n",
    "print(all_match_text)"
   ]
  },
  {
   "cell_type": "code",
   "execution_count": 26,
   "metadata": {},
   "outputs": [
    {
     "name": "stdout",
     "output_type": "stream",
     "text": [
      "<callable_iterator object at 0x108598df0>\n",
      "The match text is:phone, span is :(14, 19)\n",
      "The match text is:phone, span is :(33, 38)\n"
     ]
    }
   ],
   "source": [
    "all_match_obj = re.finditer(pattern, text) # it gives match_obj iterator for all matching patterns\n",
    "print(all_match_obj)\n",
    "\n",
    "for match_obj in all_match_obj:\n",
    "    match_span = match_obj.span()\n",
    "\n",
    "    # match_start =  match_obj.start()\n",
    "    # match_end =  match_obj.end()\n",
    "    # match_text = text[match_start:match_end]\n",
    "    \n",
    "    match_text = match_obj.group() \n",
    "    \n",
    "    print(\"The match text is:{}, span is :{}\".format(match_text, match_span))"
   ]
  },
  {
   "cell_type": "code",
   "execution_count": 47,
   "metadata": {},
   "outputs": [
    {
     "name": "stdout",
     "output_type": "stream",
     "text": [
      "The match text is:phone, span is :(14, 19)\n",
      "The match text is:phone, span is :(33, 38)\n"
     ]
    }
   ],
   "source": [
    "def printAllMatchingPattern(pattern, text):\n",
    "    all_match_obj = list(re.finditer(pattern, text)) # finditer gives match_obj iterator for all matching patterns\n",
    "\n",
    "    if not all_match_obj: # iterators always not null, so we need to use this method\n",
    "        print(\"No matching patterns\")\n",
    "\n",
    "    for match_obj in all_match_obj: # iterate on all match object\n",
    "        match_span = match_obj.span()\n",
    "\n",
    "        match_text = match_obj.group() # extracting match text\n",
    "        \n",
    "        print(\"The match text is:{}, span is :{}\".format(match_text, match_span))\n",
    "\n",
    "printAllMatchingPattern(pattern, text)"
   ]
  },
  {
   "cell_type": "code",
   "execution_count": 48,
   "metadata": {},
   "outputs": [
    {
     "name": "stdout",
     "output_type": "stream",
     "text": [
      "No matching patterns\n"
     ]
    }
   ],
   "source": [
    "printAllMatchingPattern(invalid_pattern, text)"
   ]
  },
  {
   "cell_type": "markdown",
   "metadata": {},
   "source": [
    "## Characters and Quantifiers"
   ]
  },
  {
   "cell_type": "markdown",
   "metadata": {},
   "source": [
    "### Identifiers for Characters in Patterns\n",
    "\n",
    "We can use this characters  in regular expression and generalize the pattern instead of matching exact text. \n",
    "\n",
    "<table ><tr><th>Character</th><th>Description</th><th>Example Pattern Code</th><th >Example Match</th></tr>\n",
    "\n",
    "<tr ><td><span >\\d</span></td><td>A digit</td><td>file_\\d\\d</td><td>file_25</td></tr>\n",
    "\n",
    "<tr ><td><span >\\w</span></td><td>Alphanumeric</td><td>\\w-\\w\\w\\w</td><td>A-b_1</td></tr>\n",
    "\n",
    "\n",
    "\n",
    "<tr ><td><span >\\s</span></td><td>White space</td><td>a\\sb\\sc</td><td>a b c</td></tr>\n",
    "\n",
    "\n",
    "\n",
    "<tr ><td><span >\\D</span></td><td>A non digit</td><td>\\D\\D\\D</td><td>ABC</td></tr>\n",
    "\n",
    "<tr ><td><span >\\W</span></td><td>Non-alphanumeric</td><td>\\W\\W\\W\\W\\W</td><td>*-+=)</td></tr>\n",
    "\n",
    "<tr ><td><span >\\S</span></td><td>Non-whitespace</td><td>\\S\\S\\S\\S</td><td>Yoyo</td></tr></table>\n",
    "\n",
    "Note:\n",
    "`\\w` - aplha numeric - characters[a-zA-Z], numbers[0-9], underscore(_)"
   ]
  },
  {
   "cell_type": "markdown",
   "metadata": {},
   "source": [
    "#### Quantifiers\n",
    "\n",
    "Quantifiers helps to specify how may number of occurrence of characters need. Without quantifiers it characters are considered as single occurrence.\n",
    "\n",
    "<table >\n",
    "<tr><th>Character</th><th>Description</th><th>Example Pattern Code</th><th >Example Match</th></tr>\n",
    "<tr ><td><span >\\*</span></td><td>Occurs zero or more times</td><td>A\\*B\\*C*</td><td>AAACC</td></tr>\n",
    "\n",
    "<tr ><td><span >?</span></td><td>Once or none</td><td>plurals?</td><td>plural</td></tr>\n",
    "\n",
    "<tr ><td><span >+</span></td><td>Occurs one or more times</td><td>\tVersion \\w-\\w+</td><td>Version A-b1_1</td></tr>\n",
    "\n",
    "<tr ><td><span >{3}</span></td><td>Occurs exactly 3 times</td><td>\\D{3}</td><td>abc</td></tr>\n",
    "\n",
    "\n",
    "\n",
    "<tr ><td><span >{2,4}</span></td><td>Occurs 2 to 4 times</td><td>\\d{2,4}</td><td>123</td></tr>\n",
    "\n",
    "\n",
    "\n",
    "<tr ><td><span >{3,}</span></td><td>Occurs 3 or more</td><td>\\w{3,}</td><td>anycharacters</td></tr>\n",
    "\n",
    "\n",
    "</table>"
   ]
  },
  {
   "cell_type": "code",
   "execution_count": 54,
   "metadata": {},
   "outputs": [
    {
     "name": "stdout",
     "output_type": "stream",
     "text": [
      "The match text is:000-233-4565, span is :(19, 31)\n",
      "The match text is:000-233-4565, span is :(69, 81)\n"
     ]
    }
   ],
   "source": [
    "text = \"My phone number is 000-233-4565 which is similar to old phone number 000-233-4565\"\n",
    "pattern = r'\\d{3}-\\d{3}-\\d{4}'\n",
    "\n",
    "printAllMatchingPattern(pattern, text)"
   ]
  },
  {
   "cell_type": "markdown",
   "metadata": {},
   "source": [
    "| Feature       | Symbol      | Description                                      | Example            | Matches         | Does Not Match  |\n",
    "|--------------|------------|--------------------------------------------------|--------------------|----------------|----------------|\n",
    "| **Grouping** | `( ... )`  | Groups part of the regex for capturing or logic | `(ab)+`           | \"abab\", \"ab\"   | \"a\", \"b\"       |\n",
    "| **Non-Capturing Group** | `(?: ... )`  | Groups without capturing for efficiency | `(?:ab)+`         | \"abab\", \"ab\"   | \"a\", \"b\"       |\n",
    "| **Start of Range** | `^`        | Matches the **start** of a string            | `^Hello`          | \"Hello world\"  | \"world Hello\"  |\n",
    "| **End of Range**   | `$`        | Matches the **end** of a string              | `world$`          | \"Hello world\"  | \"world Hello\"  |\n",
    "| **Character Range** | `[a-z]`    | Matches **any** character from `a` to `z`   | `[a-c]`           | \"a\", \"b\", \"c\"  | \"d\", \"x\"       |\n",
    "| **Digit Range** | `[0-9]`    | Matches **any** digit from `0` to `9`         | `[3-6]`           | \"3\", \"4\", \"5\"  | \"2\", \"7\"       |\n",
    "| **Exclusion** | `[^ ... ]` | Negates a set, matching anything **except** the characters inside | `[^aeiou]` | \"b\", \"c\", \"x\"  | \"a\", \"e\", \"i\"  |\n"
   ]
  },
  {
   "cell_type": "code",
   "execution_count": null,
   "metadata": {},
   "outputs": [
    {
     "name": "stdout",
     "output_type": "stream",
     "text": [
      "The match text is:Hello my name is , span is :(0, 17)\n",
      "The match text is:dsgsd, span is :(19, 24)\n"
     ]
    }
   ],
   "source": [
    "text = \"Hello my name is 12dsgsd\"\n",
    "pattern = r\"[^\\d]+\" # excluding chars in match\n",
    "\n",
    "printAllMatchingPattern(pattern, text)"
   ]
  },
  {
   "cell_type": "code",
   "execution_count": 57,
   "metadata": {},
   "outputs": [
    {
     "name": "stdout",
     "output_type": "stream",
     "text": [
      "The match text is:emp0032, span is :(24, 31)\n"
     ]
    }
   ],
   "source": [
    "text = \"Hello my employee id is emp0032\"\n",
    "pattern = r\"emp\\d+\" # excluding chars in match\n",
    "\n",
    "printAllMatchingPattern(pattern, text)"
   ]
  },
  {
   "cell_type": "code",
   "execution_count": null,
   "metadata": {},
   "outputs": [
    {
     "name": "stdout",
     "output_type": "stream",
     "text": [
      "The match text is:+1 234-345-3433, span is :(10, 25)\n",
      "Phone extension is +1, and the number is 234-345-3433, So the entire match is +1 234-345-3433\n"
     ]
    }
   ],
   "source": [
    "text = \"number is +1 234-345-3433\"\n",
    "pattern = r\"(\\+\\d{1,3}) (\\d{3}-\\d{3}-\\d{4})\" # splitting the match into multiple groups using ()\n",
    "\n",
    "printAllMatchingPattern(pattern, text)\n",
    "\n",
    "match_obj = re.search(pattern, text)\n",
    "\n",
    "extension = match_obj.group(1)\n",
    "phone_number = match_obj.group(2)\n",
    "combined_result = match_obj.group(0) # this gives the entire match\n",
    "\n",
    "print(\"Phone extension is {}, and the number is {}, So the entire match is {}\".format(extension, phone_number, combined_result))"
   ]
  },
  {
   "cell_type": "markdown",
   "metadata": {},
   "source": [
    "### Regex Anchors Table\n",
    "\n",
    "| Anchor  | Description                                                                 | Example                     | Matches                     | Does Not Match              |\n",
    "|---------|-----------------------------------------------------------------------------|-----------------------------|-----------------------------|-----------------------------|\n",
    "| `\\b`    | Word boundary: Matches the position between a word character and a non-word character. | `\\bcat\\b`                   | \"cat\" in \"The cat\"           | \"cat\" in \"category\"         |\n",
    "| `\\B`    | Non-word boundary: Matches a position that is **not** a word boundary.      | `\\Bcat\\B`                   | \"cat\" in \"category\"          | \"cat\" in \"The cat\"          |\n",
    "| `^`     | Start of a string (or line, in multiline mode).                            | `^The`                      | \"The\" in \"The cat\"          | \"The\" in \"This is The cat\"  |\n",
    "| `$`     | End of a string (or line, in multiline mode).                              | `cat$`                      | \"cat\" in \"This is a cat\"    | \"cat\" in \"catapult\"         |\n",
    "| `\\A`    | Start of a string (ignores multiline mode).                                | `\\AThe`                     | \"The\" in \"The cat\"          | \"The\" in \"This is The cat\"  |\n",
    "| `\\Z`    | End of a string (ignores multiline mode).                                  | `cat\\Z`                     | \"cat\" in \"This is a cat\"    | \"cat\" in \"catapult\"         |\n",
    "| `\\G`    | Start of the match (used for contiguous matches).                          | `\\G\\d`                      | \"1\", \"2\", \"3\" in \"123\"      | \"2\" in \"1 2 3\"              |\n",
    "\n",
    "---"
   ]
  },
  {
   "cell_type": "code",
   "execution_count": 66,
   "metadata": {},
   "outputs": [
    {
     "name": "stdout",
     "output_type": "stream",
     "text": [
      "The match text is:0032, span is :(18, 22)\n",
      "The match text is:23, span is :(44, 46)\n",
      "The match text is:232, span is :(47, 50)\n",
      "The match text is:12, span is :(51, 53)\n",
      "The match text is:43234234324, span is :(76, 87)\n",
      "----------------------------------------\n",
      "The match text is:43234234324, span is :(76, 87)\n"
     ]
    }
   ],
   "source": [
    "text = \"Employee id is emp0032 and serial number is 23n232k12 but payroll number is 43234234324\"\n",
    "\n",
    "pattern=r\"\\d+\" # this gives all the text with partial and fully match\n",
    "printAllMatchingPattern(pattern, text)\n",
    "\n",
    "print(\"-\"*40)\n",
    "\n",
    "pattern= r'\\b\\d+\\b' #numbers that starts and end \n",
    "printAllMatchingPattern(pattern, text)"
   ]
  },
  {
   "cell_type": "code",
   "execution_count": 76,
   "metadata": {},
   "outputs": [
    {
     "name": "stdout",
     "output_type": "stream",
     "text": [
      "-----------------------------------  cat ----------\n",
      "The match text is:cat, span is :(0, 3)\n",
      "----------\n",
      "The match text is:cat, span is :(0, 3)\n",
      "The match text is:cat, span is :(11, 14)\n",
      "-----------------------------------  is ----------\n",
      "The match text is:is, span is :(29, 31)\n",
      "----------\n",
      "The match text is:is, span is :(4, 6)\n",
      "The match text is:is, span is :(29, 31)\n"
     ]
    }
   ],
   "source": [
    "text = \"cat is not caterpillar, on this\"\n",
    "\n",
    "print(\"-\"*35+\"  cat \"+\"-\"*10)\n",
    "pattern=r\"^cat\" # it match cat not caterpillar's cat\n",
    "printAllMatchingPattern(pattern, text)\n",
    "print(\"-\"*10)\n",
    "pattern=r\"cat\" # it matches all cat\n",
    "printAllMatchingPattern(pattern, text)\n",
    "\n",
    "\n",
    "print(\"-\"*35+\"  is \"+\"-\"*10)\n",
    "pattern=r\"is$\" # it matches this's is not is\n",
    "printAllMatchingPattern(pattern, text)\n",
    "\n",
    "print(\"-\"*10)\n",
    "pattern=r\"is\" # it matches all is\n",
    "printAllMatchingPattern(pattern, text)\n",
    "\n",
    "\n"
   ]
  },
  {
   "cell_type": "code",
   "execution_count": null,
   "metadata": {},
   "outputs": [],
   "source": []
  }
 ],
 "metadata": {
  "kernelspec": {
   "display_name": "Python 3",
   "language": "python",
   "name": "python3"
  },
  "language_info": {
   "codemirror_mode": {
    "name": "ipython",
    "version": 3
   },
   "file_extension": ".py",
   "mimetype": "text/x-python",
   "name": "python",
   "nbconvert_exporter": "python",
   "pygments_lexer": "ipython3",
   "version": "3.11.11"
  }
 },
 "nbformat": 4,
 "nbformat_minor": 2
}
